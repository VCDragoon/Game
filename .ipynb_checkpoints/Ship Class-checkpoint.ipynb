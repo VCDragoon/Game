{
 "cells": [
  {
   "cell_type": "code",
   "execution_count": 2,
   "metadata": {},
   "outputs": [
    {
     "ename": "SyntaxError",
     "evalue": "invalid syntax (<ipython-input-2-538b00512aa2>, line 17)",
     "output_type": "error",
     "traceback": [
      "\u001b[1;36m  File \u001b[1;32m\"<ipython-input-2-538b00512aa2>\"\u001b[1;36m, line \u001b[1;32m17\u001b[0m\n\u001b[1;33m    if scanner > 80 then:\u001b[0m\n\u001b[1;37m                       ^\u001b[0m\n\u001b[1;31mSyntaxError\u001b[0m\u001b[1;31m:\u001b[0m invalid syntax\n"
     ]
    }
   ],
   "source": [
    "class SeekerShip:\n",
    "    def __init__(self, ship_ID, ship_num, bioSig_scanner, pcore_scanner, SS_scanner, thrusterHP,\n",
    "                    activeCryopods, battery):\n",
    "        self.ship_ID = ship_ID\n",
    "        self.ship_num = ship_num\n",
    "\n",
    "        self.bioSig_scanner_hp = bioSig_scanner_hp\n",
    "        self.pcore_scanner_hp = pcore_scanner_hp\n",
    "        self.SS_scanner_hp = SS_scanner_hp\n",
    "        self.thruster_hp = thruster_hp\n",
    "\n",
    "        self.battery = battery\n",
    "        self.activeCryopods = activeCryopods\n",
    "\n",
    "    def scanner_error(self, scanner):\n",
    "        # takes in a scanner var and returns probability of error\n",
    "        if scanner > 80:\n",
    "            return 1\n",
    "        elif scanner > 50:\n",
    "            return .75\n",
    "        elif scanner > 20:\n",
    "            return .5\n",
    "        else:\n",
    "            return .25\n",
    "\n",
    "    \n",
    "    # Replace description with ship ID and number\n",
    "    def __str__(self):\n",
    "        return f\"Seeker Ship No. {self.ship_ID}. Seeker {self.ship_num} of 10.\"\n"
   ]
  }
 ],
 "metadata": {
  "kernelspec": {
   "display_name": "Python 3",
   "language": "python",
   "name": "python3"
  },
  "language_info": {
   "codemirror_mode": {
    "name": "ipython",
    "version": 3
   },
   "file_extension": ".py",
   "mimetype": "text/x-python",
   "name": "python",
   "nbconvert_exporter": "python",
   "pygments_lexer": "ipython3",
   "version": "3.6.10"
  }
 },
 "nbformat": 4,
 "nbformat_minor": 4
}
