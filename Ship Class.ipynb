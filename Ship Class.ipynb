{
 "cells": [
  {
   "cell_type": "code",
   "execution_count": 1,
   "metadata": {},
   "outputs": [],
   "source": [
    "import random"
   ]
  },
  {
   "cell_type": "code",
   "execution_count": 35,
   "metadata": {},
   "outputs": [],
   "source": [
    "class SeekerShip:\n",
    "    def __init__(self, ship_ID, ship_num):\n",
    "        self.ship_ID = ship_ID\n",
    "        self.ship_num = ship_num\n",
    "\n",
    "    def scanner_error(self, scanner):\n",
    "        # takes in a scanner var and returns probability of error\n",
    "        if scanner > 80:\n",
    "            return 1\n",
    "        elif scanner > 50:\n",
    "            return .75\n",
    "        elif scanner > 20:\n",
    "            return .5\n",
    "        else:\n",
    "            return .25\n",
    "            \n",
    "    def lose_cryopods(self, change_by):\n",
    "        self.activeCryopods -= change_by\n",
    "    \n",
    "    def ship_status(self):\n",
    "        print(f'Human Cryopods Remaining: {self.activeCryopods}')\n",
    "        print(f'Biological Signature Scanner at {self.bioSig_scanner_hp}% functionality')\n",
    "        print(f'Planetary Core Scanner at {self.pcore_scanner_hp}% functionality')\n",
    "        print(f'Solar System Scanner at {self.SS_scanner_hp}% functionality')\n",
    "        print(f'Atmospheric Scanner at {self.atmo_scanner_hp}% functionality')\n",
    "        print(f'Temperature Scanner at {self.temp_scanner_hp}% functionality')\n",
    "        print(f'Gravimetric Scanner at {self.grav_scanner_hp}% functionality')\n",
    "        print(f'Thrusters at {self.thruster_hp}% functionality')\n",
    "        print(f'Battery at {self.battery}% charge')\n",
    "    \n",
    "    # Replace description with ship ID and number\n",
    "    def __str__(self):\n",
    "        return f\"Seeker ID: {self.ship_ID}. This is Seeker ship number {self.ship_num} of 10.\"\n"
   ]
  },
  {
   "cell_type": "code",
   "execution_count": 57,
   "metadata": {},
   "outputs": [],
   "source": [
    "bio_types = ['None', 'Isotopes', 'Biochemical Activity', 'Organics']\n",
    "core_types = ['Terrestrial', 'Gas', 'Liquid']\n",
    "temp_types = ['Frozen', 'Cold', 'Mild', 'Hot', 'Scorching']\n",
    "atmo_types = ['None', 'Toxic', 'Breathable']\n",
    "grav_types = ['Minimal', 'Moderate', 'Heavy']\n",
    "\n",
    "class Planet:\n",
    "    def __init__(self, scanStatus, bio, core, temp, atmo, grav):\n",
    "        self.bio = bio\n",
    "        self.core = core\n",
    "        self.temp = temp\n",
    "        self.atmo = atmo\n",
    "        self.grav = grav\n",
    "        self.scanStatus = scanStatus\n",
    "\n",
    "    def planet_stats(self):\n",
    "        print(f'Planet Biology: {self.bio}')\n",
    "        print(f'Planet Composition: {self.core}')\n",
    "        print(f'Planet Atmosphere: {self.atmo}')\n",
    "        print(f'Planet Gravity: {self.grav}')\n",
    "        \n",
    "    def update_scanStatus(self, status):\n",
    "        self.scanStatus = status\n",
    "\n",
    "        \n",
    "# auto-generate planets with random characteristics\n",
    "def planet_generator():\n",
    "    bio = random.choice(bio_types)\n",
    "    core = random.choice(core_types)\n",
    "    temp = random.choice(temp_types)\n",
    "    atmo = random.choice(atmo_types)\n",
    "    grav = random.choice(grav_types)\n",
    "    NewPlanet = Planet(\"Undiscovered\", bio, core, temp, atmo, grav)\n",
    "    \n",
    "    Planet.bio_status = \"Unknown\"\n",
    "    Planet.core_status = \"Unknown\"\n",
    "    Planet.temp_status = \"Unknown\"\n",
    "    Planet.atmo_status = \"Unknown\"\n",
    "    Planet.grav_status = \"Unknown\"\n",
    "    \n",
    "    return NewPlanet\n",
    "\n",
    "def ship_generator(shipID, shipNum):\n",
    "    component_list = ['bioSig_scanner_hp', 'pcore_scanner_hp', 'SS_scanner_hp', 'atmo_scanner_hp', \n",
    "                 'temp_scanner_hp', 'grav_scanner_hp', 'thruster_hp', 'battery']\n",
    "    Ship = SeekerShip(shipID, shipNum)\n",
    "    \n",
    "    for component in component_list:\n",
    "        setattr(Ship, component, 100)\n",
    "\n",
    "    Ship.activeCryopods = 10000\n",
    "    \n",
    "    return Ship\n",
    "\n",
    "def change_bioHP(ship, amount):\n",
    "    ship.bioSig_scanner_hp\n",
    "\n",
    "\n",
    "def run_scan():\n",
    "    return None\n",
    "    \n",
    "\n",
    "\n",
    "def scan_error(scanner):\n",
    "    if scanner > 80:\n",
    "        return 1\n",
    "    elif scanner > 50:\n",
    "        return .75\n",
    "    elif scanner > 20:\n",
    "        return .5\n",
    "    else:\n",
    "        return .25\n",
    "\n",
    "def scan_for_SS():\n",
    "    SS_in_range = random.randint(1, 5)\n",
    "    SS_dict = {}\n",
    "    for i in range(SS_in_range):\n",
    "        SS_dict[i] = random.randint(5, 100)\n",
    "    return SS_dict\n",
    "\n",
    "def changeScannerHP(ship, scannerType, amount):\n",
    "    ship.scannerType += amount"
   ]
  },
  {
   "cell_type": "code",
   "execution_count": null,
   "metadata": {},
   "outputs": [],
   "source": []
  },
  {
   "cell_type": "code",
   "execution_count": 58,
   "metadata": {},
   "outputs": [],
   "source": [
    "Seeker1 = ship_generator(1, 1)"
   ]
  },
  {
   "cell_type": "code",
   "execution_count": 59,
   "metadata": {},
   "outputs": [
    {
     "name": "stdout",
     "output_type": "stream",
     "text": [
      "Human Cryopods Remaining: 10000\n",
      "Biological Signature Scanner at 100% functionality\n",
      "Planetary Core Scanner at 100% functionality\n",
      "Solar System Scanner at 100% functionality\n",
      "Atmospheric Scanner at 100% functionality\n",
      "Temperature Scanner at 100% functionality\n",
      "Gravimetric Scanner at 100% functionality\n",
      "Thrusters at 100% functionality\n",
      "Battery at 100% charge\n"
     ]
    }
   ],
   "source": [
    "Seeker1.ship_status()"
   ]
  },
  {
   "cell_type": "code",
   "execution_count": 6,
   "metadata": {},
   "outputs": [],
   "source": [
    "### SpaceTile Class\n",
    "class SpaceTile:\n",
    "    def __init__(self, x, y):\n",
    "        self.x = x\n",
    "        self.y = y\n",
    "    def event_text(self):\n",
    "        raise NotImplemetedError()\n",
    "\n",
    "class Casanova(SpaceTile):\n",
    "    def intro_text(self):\n",
    "        \"You are at the Casanova\"\n",
    "        \n",
    "    \n",
    "        "
   ]
  },
  {
   "cell_type": "code",
   "execution_count": null,
   "metadata": {},
   "outputs": [],
   "source": [
    "def spaceEvent:\n",
    "    \"\"\"\n",
    "    Roll to see if a space event occurs\n",
    "    If it does, pick a random space event from a space event bucket\n",
    "    Resolve event and update ship status\n",
    "    \"\"\"\n",
    "\n",
    "def solarSystemEvent:\n",
    "    \"\"\"\n",
    "    Roll to see if a solar system event occurs\n",
    "    If so, pick random SS event\n",
    "    Resolve and update ship status\n",
    "    \"\"\"\n",
    "    \n",
    "def planetEvent:\n",
    "    \"\"\"\n",
    "    Roll to see if a planet event occurs\n",
    "    If so, pick random planet event\n",
    "    Resolve and update ship status\n",
    "    \"\"\"\n",
    "    \n",
    "def scanEvent:\n",
    "    \"\"\"\n",
    "    Only available at a planet\n",
    "    During a scan attempt, use the HP and scan_error function output to determine whether\n",
    "    a scan is successful or not. Currently only binary.\n",
    "    If the scan is successful, return results for that scan for the current planet.\n",
    "    If not, return \"error\" for the scan.\n",
    "    \"\"\""
   ]
  },
  {
   "cell_type": "code",
   "execution_count": 7,
   "metadata": {},
   "outputs": [
    {
     "data": {
      "text/plain": [
       "{0: 74, 1: 16, 2: 73}"
      ]
     },
     "execution_count": 7,
     "metadata": {},
     "output_type": "execute_result"
    }
   ],
   "source": [
    "scan_for_SS()"
   ]
  },
  {
   "cell_type": "code",
   "execution_count": 20,
   "metadata": {},
   "outputs": [
    {
     "name": "stdout",
     "output_type": "stream",
     "text": [
      "Planet Biology: Isotopes\n",
      "Planet Composition: Liquid\n",
      "Planet Atmosphere: None\n",
      "Planet Gravity: Heavy\n"
     ]
    },
    {
     "data": {
      "text/plain": [
       "'Undiscovered'"
      ]
     },
     "execution_count": 20,
     "metadata": {},
     "output_type": "execute_result"
    }
   ],
   "source": [
    "Poopface = planet_generator()\n",
    "Poopface.planet_stats()\n",
    "Poopface.scanStatus"
   ]
  },
  {
   "cell_type": "code",
   "execution_count": 27,
   "metadata": {},
   "outputs": [],
   "source": [
    "Seeker1 = SeekerShip(28318, 1, 100, 100, 100, 100, 100, 100, 100, 100, 10000)"
   ]
  },
  {
   "cell_type": "code",
   "execution_count": 40,
   "metadata": {
    "scrolled": true
   },
   "outputs": [
    {
     "ename": "AttributeError",
     "evalue": "'SeekerShip' object has no attribute 'activeCryopods'",
     "output_type": "error",
     "traceback": [
      "\u001b[1;31m---------------------------------------------------------------------------\u001b[0m",
      "\u001b[1;31mAttributeError\u001b[0m                            Traceback (most recent call last)",
      "\u001b[1;32m<ipython-input-40-c52d87fd944a>\u001b[0m in \u001b[0;36m<module>\u001b[1;34m\u001b[0m\n\u001b[1;32m----> 1\u001b[1;33m \u001b[0mSeeker1\u001b[0m\u001b[1;33m.\u001b[0m\u001b[0mship_status\u001b[0m\u001b[1;33m(\u001b[0m\u001b[1;33m)\u001b[0m\u001b[1;33m\u001b[0m\u001b[1;33m\u001b[0m\u001b[0m\n\u001b[0m",
      "\u001b[1;32m<ipython-input-35-1231b855dc94>\u001b[0m in \u001b[0;36mship_status\u001b[1;34m(self)\u001b[0m\n\u001b[0;32m     19\u001b[0m \u001b[1;33m\u001b[0m\u001b[0m\n\u001b[0;32m     20\u001b[0m     \u001b[1;32mdef\u001b[0m \u001b[0mship_status\u001b[0m\u001b[1;33m(\u001b[0m\u001b[0mself\u001b[0m\u001b[1;33m)\u001b[0m\u001b[1;33m:\u001b[0m\u001b[1;33m\u001b[0m\u001b[1;33m\u001b[0m\u001b[0m\n\u001b[1;32m---> 21\u001b[1;33m         \u001b[0mprint\u001b[0m\u001b[1;33m(\u001b[0m\u001b[1;34mf'Human Cryopods Remaining: {self.activeCryopods}'\u001b[0m\u001b[1;33m)\u001b[0m\u001b[1;33m\u001b[0m\u001b[1;33m\u001b[0m\u001b[0m\n\u001b[0m\u001b[0;32m     22\u001b[0m         \u001b[0mprint\u001b[0m\u001b[1;33m(\u001b[0m\u001b[1;34mf'Biological Signature Scanner at {self.bioSig_scanner_hp}% functionality'\u001b[0m\u001b[1;33m)\u001b[0m\u001b[1;33m\u001b[0m\u001b[1;33m\u001b[0m\u001b[0m\n\u001b[0;32m     23\u001b[0m         \u001b[0mprint\u001b[0m\u001b[1;33m(\u001b[0m\u001b[1;34mf'Planetary Core Scanner at {self.pcore_scanner_hp}% functionality'\u001b[0m\u001b[1;33m)\u001b[0m\u001b[1;33m\u001b[0m\u001b[1;33m\u001b[0m\u001b[0m\n",
      "\u001b[1;31mAttributeError\u001b[0m: 'SeekerShip' object has no attribute 'activeCryopods'"
     ]
    }
   ],
   "source": [
    "Seeker1.ship_status()"
   ]
  },
  {
   "cell_type": "code",
   "execution_count": 24,
   "metadata": {},
   "outputs": [],
   "source": [
    "Seeker1.change_hp(\"bio\", 50)"
   ]
  },
  {
   "cell_type": "code",
   "execution_count": 25,
   "metadata": {},
   "outputs": [],
   "source": [
    "Seeker1.change_hp(\"thrust\", -50)"
   ]
  },
  {
   "cell_type": "code",
   "execution_count": 26,
   "metadata": {},
   "outputs": [
    {
     "data": {
      "text/plain": [
       "0.5"
      ]
     },
     "execution_count": 26,
     "metadata": {},
     "output_type": "execute_result"
    }
   ],
   "source": [
    "Seeker1.scanner_error(Seeker1.thruster_hp)"
   ]
  }
 ],
 "metadata": {
  "kernelspec": {
   "display_name": "Python 3",
   "language": "python",
   "name": "python3"
  },
  "language_info": {
   "codemirror_mode": {
    "name": "ipython",
    "version": 3
   },
   "file_extension": ".py",
   "mimetype": "text/x-python",
   "name": "python",
   "nbconvert_exporter": "python",
   "pygments_lexer": "ipython3",
   "version": "3.7.7"
  }
 },
 "nbformat": 4,
 "nbformat_minor": 4
}
