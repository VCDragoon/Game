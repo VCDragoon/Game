{
 "cells": [
  {
   "cell_type": "code",
   "execution_count": 1,
   "metadata": {},
   "outputs": [],
   "source": [
    "import random"
   ]
  },
  {
   "cell_type": "code",
   "execution_count": 2,
   "metadata": {},
   "outputs": [],
   "source": [
    "class SeekerShip:\n",
    "    def __init__(self, ship_ID, ship_num, bioSig_scanner_hp, pcore_scanner_hp, SS_scanner_hp, atmo_scanner_hp, \n",
    "                 temp_scanner_hp, grav_scanner_hp, thruster_hp, battery, activeCryopods):\n",
    "        self.ship_ID = ship_ID\n",
    "        self.ship_num = ship_num\n",
    "\n",
    "        self.bioSig_scanner_hp = bioSig_scanner_hp\n",
    "        self.pcore_scanner_hp = pcore_scanner_hp\n",
    "        self.SS_scanner_hp = SS_scanner_hp\n",
    "        self.atmo_scanner_hp = atmo_scanner_hp\n",
    "        self.temp_scanner_hp = temp_scanner_hp\n",
    "        self.grav_scanner_hp = grav_scanner_hp\n",
    "        \n",
    "        \n",
    "        \n",
    "        self.thruster_hp = thruster_hp\n",
    "\n",
    "        self.battery = battery\n",
    "        self.activeCryopods = activeCryopods\n",
    "\n",
    "    def scanner_error(self, scanner):\n",
    "        # takes in a scanner var and returns probability of error\n",
    "        if scanner > 80:\n",
    "            return 1\n",
    "        elif scanner > 50:\n",
    "            return .75\n",
    "        elif scanner > 20:\n",
    "            return .5\n",
    "        else:\n",
    "            return .25\n",
    "\n",
    "    def change_hp(self, component, change_by):\n",
    "        \n",
    "        if component==\"bio\":\n",
    "            self.bioSig_scanner_hp += change_by\n",
    "        elif component== \"pcore\":\n",
    "            self.pcore_scanner_hp += change_by\n",
    "        elif component==\"SS\":\n",
    "            self.SS_scanner_hp += change_by\n",
    "        elif component==\"thrust\":\n",
    "            self.thruster_hp += change_by\n",
    "        elif component==\"atmo\":\n",
    "            self.atmo_scanner_hp += change_by\n",
    "        elif component==\"temp\":\n",
    "            self.temp_scanner_hp += change_by\n",
    "        elif component==\"grav\":\n",
    "            self.grav_scanner_hp += change_by\n",
    "            \n",
    "    def lose_cryopods(self, change_by):\n",
    "        self.activeCryopods -= change_by\n",
    "    \n",
    "    def ship_status(self):\n",
    "        print(f'Human Cryopods Remaining: {self.activeCryopods}')\n",
    "        print(f'Biological Signature Scanner at {self.bioSig_scanner_hp}% functionality')\n",
    "        print(f'Planetary Core Scanner at {self.pcore_scanner_hp}% functionality')\n",
    "        print(f'Solar System Scanner at {self.SS_scanner_hp}% functionality')\n",
    "        print(f'Atmospheric Scanner at {self.atmo_scanner_hp}% functionality')\n",
    "        print(f'Temperature Scanner at {self.temp_scanner_hp}% functionality')\n",
    "        print(f'Gravimetric Scanner at {self.grav_scanner_hp}% functionality')\n",
    "        print(f'Thrusters at {self.thruster_hp}% functionality')\n",
    "        print(f'Battery at {self.battery}% charge')\n",
    "    \n",
    "    # Replace description with ship ID and number\n",
    "    def __str__(self):\n",
    "        return f\"Seeker ID: {self.ship_ID}. This is Seeker ship number {self.ship_num} of 10.\"\n"
   ]
  },
  {
   "cell_type": "code",
   "execution_count": 5,
   "metadata": {},
   "outputs": [],
   "source": [
    "bio_types = ['None', 'Isotopes', 'Biochemical Activity', 'Organics']\n",
    "core_types = ['Terrestrial', 'Gas', 'Liquid']\n",
    "temp_types = ['Frozen', 'Cold', 'Mild', 'Hot', 'Scorching']\n",
    "atmo_types = ['None', 'Toxic', 'Breathable']\n",
    "grav_types = ['Minimal', 'Moderate', 'Heavy']\n",
    "\n",
    "class Planet:\n",
    "    def __init__(self, scanStatus, bio, core, temp, atmo, grav):\n",
    "        self.bio = bio\n",
    "        self.core = core\n",
    "        self.temp = temp\n",
    "        self.atmo = atmo\n",
    "        self.grav = grav\n",
    "        self.scanStatus = scanStatus\n",
    "\n",
    "    def planet_stats(self):\n",
    "        print(f'Planet Biology: {self.bio}')\n",
    "        print(f'Planet Composition: {self.core}')\n",
    "        print(f'Planet Atmosphere: {self.atmo}')\n",
    "        print(f'Planet Gravity: {self.grav}')\n",
    "        \n",
    "    def update_scanStatus(self, status):\n",
    "        self.scanStatus = status\n",
    "\n",
    "        \n",
    "# auto-generate planets with random characteristics\n",
    "def planet_generator():\n",
    "    bio = random.choice(bio_types)\n",
    "    core = random.choice(core_types)\n",
    "    temp = random.choice(temp_types)\n",
    "    atmo = random.choice(atmo_types)\n",
    "    grav = random.choice(grav_types)\n",
    "    NewPlanet = Planet(\"Undiscovered\", bio, core, temp, atmo, grav)\n",
    "    \n",
    "    Planet.bio_status = \"Unknown\"\n",
    "    Planet.core_status = \"Unknown\"\n",
    "    Planet.temp_status = \"Unknown\"\n",
    "    Planet.atmo_status = \"Unknown\"\n",
    "    Planet.grav_status = \"Unknown\"\n",
    "    \n",
    "    return NewPlanet\n",
    "\n",
    "def run_scan():\n",
    "    return None\n",
    "    \n",
    "    \n",
    "\n",
    "def scan_error(scanner):\n",
    "    if scanner > 80:\n",
    "        return 1\n",
    "    elif scanner > 50:\n",
    "        return .75\n",
    "    elif scanner > 20:\n",
    "        return .5\n",
    "    else:\n",
    "        return .25\n",
    "\n",
    "def scan_for_SS():\n",
    "    SS_in_range = random.randint(1, 5)\n",
    "    SS_dict = {}\n",
    "    for i in range(SS_in_range):\n",
    "        SS_dict[i] = random.randint(5, 100)\n",
    "    return SS_dict"
   ]
  },
  {
   "cell_type": "code",
   "execution_count": null,
   "metadata": {},
   "outputs": [],
   "source": [
    "### SpaceTile Class\n"
   ]
  },
  {
   "cell_type": "code",
   "execution_count": 11,
   "metadata": {},
   "outputs": [
    {
     "data": {
      "text/plain": [
       "{0: 18}"
      ]
     },
     "execution_count": 11,
     "metadata": {},
     "output_type": "execute_result"
    }
   ],
   "source": [
    "scan_for_SS()"
   ]
  },
  {
   "cell_type": "code",
   "execution_count": 108,
   "metadata": {},
   "outputs": [
    {
     "name": "stdout",
     "output_type": "stream",
     "text": [
      "Planet Biology: Isotopes\n",
      "Planet Composition: Terrestrial\n",
      "Planet Atmosphere: Toxic\n",
      "Planet Gravity: Minimal\n"
     ]
    }
   ],
   "source": [
    "Poopface.planet_stats()"
   ]
  },
  {
   "cell_type": "code",
   "execution_count": 109,
   "metadata": {},
   "outputs": [
    {
     "data": {
      "text/plain": [
       "'Undiscovered'"
      ]
     },
     "execution_count": 109,
     "metadata": {},
     "output_type": "execute_result"
    }
   ],
   "source": [
    "Poopface.scanStatus"
   ]
  },
  {
   "cell_type": "code",
   "execution_count": 80,
   "metadata": {},
   "outputs": [],
   "source": [
    "Seeker1 = SeekerShip(28318, 1, 100, 100, 100, 100, 100, 100, 100, 100, 10000)"
   ]
  },
  {
   "cell_type": "code",
   "execution_count": 81,
   "metadata": {
    "scrolled": true
   },
   "outputs": [
    {
     "name": "stdout",
     "output_type": "stream",
     "text": [
      "Human Cryopods Remaining: 10000\n",
      "Biological Signature Scanner at 100% functionality\n",
      "Planetary Core Scanner at 100% functionality\n",
      "Solar System Scanner at 100% functionality\n",
      "Atmospheric Scanner at 100% functionality\n",
      "Temperature Scanner at 100% functionality\n",
      "Gravimetric Scanner at 100% functionality\n",
      "Thrusters at 100% functionality\n",
      "Battery at 100% charge\n"
     ]
    }
   ],
   "source": [
    "Seeker1.ship_status()"
   ]
  },
  {
   "cell_type": "code",
   "execution_count": 60,
   "metadata": {},
   "outputs": [],
   "source": [
    "Seeker1.change_hp(\"bio\", 50)"
   ]
  },
  {
   "cell_type": "code",
   "execution_count": 61,
   "metadata": {},
   "outputs": [],
   "source": [
    "Seeker1.change_hp(\"thrust\", -50)"
   ]
  },
  {
   "cell_type": "code",
   "execution_count": 64,
   "metadata": {},
   "outputs": [
    {
     "data": {
      "text/plain": [
       "0.5"
      ]
     },
     "execution_count": 64,
     "metadata": {},
     "output_type": "execute_result"
    }
   ],
   "source": [
    "Seeker1.scanner_error(Seeker1.thruster_hp)"
   ]
  }
 ],
 "metadata": {
  "kernelspec": {
   "display_name": "Python 3",
   "language": "python",
   "name": "python3"
  },
  "language_info": {
   "codemirror_mode": {
    "name": "ipython",
    "version": 3
   },
   "file_extension": ".py",
   "mimetype": "text/x-python",
   "name": "python",
   "nbconvert_exporter": "python",
   "pygments_lexer": "ipython3",
   "version": "3.7.7"
  }
 },
 "nbformat": 4,
 "nbformat_minor": 4
}
